{
 "cells": [
  {
   "cell_type": "code",
   "execution_count": 4,
   "metadata": {
    "collapsed": true
   },
   "outputs": [],
   "source": [
    "import sqlite3\n",
    "import pandas as pd"
   ]
  },
  {
   "cell_type": "code",
   "execution_count": null,
   "metadata": {},
   "outputs": [],
   "source": [
    "conn = sqlite3.connect('database.sqlite')\n"
   ]
  },
  {
   "cell_type": "code",
   "execution_count": 22,
   "metadata": {},
   "outputs": [],
   "source": [
    "data = pd.read_sql_query(\"\"\"\n",
    "SELECT match_api_id, league_id,\n",
    "        season, stage, date,\n",
    "        home_team_api_id,\n",
    "        away_team_api_id,\n",
    "        home_team_goal,\n",
    "        away_team_goal\n",
    "    FROM Match\n",
    "    WHERE season == '2008/2009' AND league_id == 1\n",
    "    ORDER BY stage\n",
    "\"\"\", conn)"
   ]
  },
  {
   "cell_type": "code",
   "execution_count": 23,
   "metadata": {
    "collapsed": false
   },
   "outputs": [
    {
     "name": "stdout",
     "output_type": "stream",
     "text": [
      "     match_api_id  league_id     season  stage                 date  \\\n0          492473          1  2008/2009      1  2008-08-17 00:00:00   \n1          492474          1  2008/2009      1  2008-08-16 00:00:00   \n2          492475          1  2008/2009      1  2008-08-16 00:00:00   \n3          492476          1  2008/2009      1  2008-08-17 00:00:00   \n4          492477          1  2008/2009      1  2008-08-16 00:00:00   \n5          492478          1  2008/2009      1  2008-09-24 00:00:00   \n6          492479          1  2008/2009      1  2008-08-16 00:00:00   \n7          492480          1  2008/2009      1  2008-08-16 00:00:00   \n8          492481          1  2008/2009      1  2008-08-16 00:00:00   \n9          492482          1  2008/2009      2  2008-10-29 00:00:00   \n10         492483          1  2008/2009      2  2008-08-23 00:00:00   \n11         492484          1  2008/2009      2  2008-08-23 00:00:00   \n12         492485          1  2008/2009      2  2008-08-24 00:00:00   \n13         492486          1  2008/2009      2  2008-08-23 00:00:00   \n14         492487          1  2008/2009      2  2008-08-23 00:00:00   \n15         492488          1  2008/2009      2  2008-08-23 00:00:00   \n16         492489          1  2008/2009      2  2008-08-23 00:00:00   \n17         492490          1  2008/2009      2  2008-08-23 00:00:00   \n18         492491          1  2008/2009      3  2008-08-30 00:00:00   \n19         492492          1  2008/2009      3  2008-08-30 00:00:00   \n20         492493          1  2008/2009      3  2008-08-30 00:00:00   \n21         492494          1  2008/2009      3  2008-08-31 00:00:00   \n22         492495          1  2008/2009      3  2008-08-30 00:00:00   \n23         492496          1  2008/2009      3  2008-08-30 00:00:00   \n24         492497          1  2008/2009      3  2008-08-31 00:00:00   \n25         492498          1  2008/2009      3  2008-08-29 00:00:00   \n26         492499          1  2008/2009      3  2008-08-30 00:00:00   \n27         492500          1  2008/2009      4  2008-09-13 00:00:00   \n28         492501          1  2008/2009      4  2008-09-13 00:00:00   \n29         492502          1  2008/2009      4  2008-09-13 00:00:00   \n..            ...        ...        ...    ...                  ...   \n276        493085          1  2008/2009     31  2009-04-25 00:00:00   \n277        493086          1  2008/2009     31  2009-04-25 00:00:00   \n278        493087          1  2008/2009     31  2009-04-25 00:00:00   \n279        493088          1  2008/2009     32  2009-05-03 00:00:00   \n280        493089          1  2008/2009     32  2009-05-02 00:00:00   \n281        493090          1  2008/2009     32  2009-05-02 00:00:00   \n282        493091          1  2008/2009     32  2009-05-02 00:00:00   \n283        493092          1  2008/2009     32  2009-05-02 00:00:00   \n284        493093          1  2008/2009     32  2009-05-01 00:00:00   \n285        493094          1  2008/2009     32  2009-05-02 00:00:00   \n286        493095          1  2008/2009     32  2009-05-03 00:00:00   \n287        493096          1  2008/2009     32  2009-05-02 00:00:00   \n288        493097          1  2008/2009     33  2009-05-09 00:00:00   \n289        493098          1  2008/2009     33  2009-05-09 00:00:00   \n290        493099          1  2008/2009     33  2009-05-09 00:00:00   \n291        493100          1  2008/2009     33  2009-05-09 00:00:00   \n292        493101          1  2008/2009     33  2009-05-09 00:00:00   \n293        493102          1  2008/2009     33  2009-05-08 00:00:00   \n294        493103          1  2008/2009     33  2009-05-09 00:00:00   \n295        493104          1  2008/2009     33  2009-05-09 00:00:00   \n296        493105          1  2008/2009     33  2009-05-09 00:00:00   \n297        493106          1  2008/2009     34  2009-05-16 00:00:00   \n298        493107          1  2008/2009     34  2009-05-16 00:00:00   \n299        493108          1  2008/2009     34  2009-05-16 00:00:00   \n300        493109          1  2008/2009     34  2009-05-16 00:00:00   \n301        493110          1  2008/2009     34  2009-05-16 00:00:00   \n302        493111          1  2008/2009     34  2009-05-15 00:00:00   \n303        493112          1  2008/2009     34  2009-05-16 00:00:00   \n304        493113          1  2008/2009     34  2009-05-16 00:00:00   \n305        493114          1  2008/2009     34  2009-05-16 00:00:00   \n\n     home_team_api_id  away_team_api_id  home_team_goal  away_team_goal  \n0                9987              9993               1               1  \n1               10000              9994               0               0  \n2                9984              8635               0               3  \n3                9991              9998               5               0  \n4                7947              9985               1               3  \n5                8203              8342               1               1  \n6                9999              8571               2               2  \n7                4049              9996               1               2  \n8               10001              9986               1               0  \n9                8342             10000               2               0  \n10               8635              9991               2               2  \n11               9985             10001               3               0  \n12               9998              9987               3               1  \n13               9986              9999               1               0  \n14               9994              4049               4               1  \n15               9996              8203               3               1  \n16               8571              9984               2               1  \n17               9993              7947               1               1  \n18               8635              8571               4               0  \n19               9987              9994               1               0  \n20               9984              9998               2               1  \n21               9991              9986               2               0  \n22               7947              9996               1               2  \n23               8203             10000               0               2  \n24               9999              9985               1               1  \n25               4049              8342               1               4  \n26              10001              9993               1               0  \n27               8342              7947               1               1  \n28               9985              8571               2               0  \n29               9998              8635               1               2  \n..                ...               ...             ...             ...  \n276              9994              9996               3               0  \n277              8571              4049               2               2  \n278              9998             10001               0               2  \n279              4049              8635               1               1  \n280             10000              9985               0               0  \n281              7947              9998               0               0  \n282              8203              9986               2               1  \n283              9991              9984               2               1  \n284              8342              9994               2               3  \n285             10001              9999               1               0  \n286              9987              8571               0               1  \n287              9996              9993               3               1  \n288              9985              8342               2               0  \n289              9986              9987               3               0  \n290              9996             10000               0               2  \n291              8571              9991               0               2  \n292              9994              7947               0               2  \n293              9993              8203               3               1  \n294              8635              9999               3               1  \n295              9998              4049               1               1  \n296              9984             10001               2               1  \n297              9987              8635               0               2  \n298              9991              9985               0               1  \n299             10000              9998               3               0  \n300              7947              9986               1               2  \n301              9999              9984               1               2  \n302              8203              9994               3               0  \n303              8342              9996               4               1  \n304             10001              8571               1               3  \n305              4049              9993               1               0  \n\n[306 rows x 9 columns]\n"
     ]
    }
   ],
   "source": [
    "print(data)"
   ]
  },
  {
   "cell_type": "code",
   "execution_count": 47,
   "metadata": {},
   "outputs": [],
   "source": [
    "team = {}\n",
    "for row in conn.execute(\"\"\"\n",
    "    SELECT team\n",
    "    FROM (\n",
    "        SELECT home_team_api_id as team\n",
    "        FROM Match\n",
    "        WHERE season == '2008/2009' AND league_id == 1\n",
    "        UNION\n",
    "        SELECT away_team_api_id as team\n",
    "        FROM Match\n",
    "        WHERE season == '2008/2009' AND league_id == 1\n",
    "    ) team\n",
    "\"\"\"):\n",
    "    team[row[0]] = 0    "
   ]
  },
  {
   "cell_type": "code",
   "execution_count": 49,
   "metadata": {
    "collapsed": false
   },
   "outputs": [
    {
     "name": "stdout",
     "output_type": "stream",
     "text": [
      "{4049: 0, 7947: 0, 8203: 0, 8342: 0, 8571: 0, 8635: 0, 9984: 0, 9985: 0, 9986: 0, 9987: 0, 9991: 0, 9993: 0, 9994: 0, 9996: 0, 9998: 0, 9999: 0, 10000: 0, 10001: 0}\n"
     ]
    }
   ],
   "source": [
    "print(team)"
   ]
  },
  {
   "cell_type": "code",
   "execution_count": 146,
   "metadata": {},
   "outputs": [],
   "source": [
    "train = data[data['stage'] < 30]\n",
    "predict = data[data['stage'] >= 30]\n"
   ]
  },
  {
   "cell_type": "code",
   "execution_count": 147,
   "metadata": {},
   "outputs": [],
   "source": [
    "def calculate_G(home, away):\n",
    "    dif = abs(home - away)\n",
    "    if dif == 0 or dif == 1:\n",
    "        return 1\n",
    "    elif dif == 2:\n",
    "        return 1.5\n",
    "    else:\n",
    "        return (11 + dif) / 8\n",
    "\n",
    "\n",
    "def calculate_W(first, second):\n",
    "    dif = team[first] - team[second]\n",
    "    return 1 / (10 ** (-dif / float(sum(team.values())) / len(team)) + 1)\n",
    "\n",
    "def train_rating(row):\n",
    "    G = calculate_G(row['home_team_goal'], row['away_team_goal'])\n",
    "    if row['home_team_goal'] == row['away_team_goal']:\n",
    "        team[row['home_team_api_id']] += G * (0.5 - calculate_W(row['home_team_api_id'], row['away_team_api_id']))\n",
    "        team[row['away_team_api_id']] += G * (0.5 - calculate_W(row['away_team_api_id'], row['home_team_api_id']))  \n",
    "    elif row['home_team_goal'] > row['away_team_goal']:\n",
    "        team[row['home_team_api_id']] += G * (1 - calculate_W(row['home_team_api_id'], row['away_team_api_id']))\n",
    "        team[row['away_team_api_id']] += G * (0 - calculate_W(row['away_team_api_id'], row['home_team_api_id']))\n",
    "    else:\n",
    "        team[row['away_team_api_id']] += G * (1 - calculate_W(row['away_team_api_id'], row['home_team_api_id']))\n",
    "        team[row['home_team_api_id']] += G * (0 - calculate_W(row['home_team_api_id'], row['away_team_api_id']))"
   ]
  },
  {
   "cell_type": "code",
   "execution_count": 148,
   "metadata": {
    "collapsed": false
   },
   "outputs": [],
   "source": [
    "for _, row in train.iterrows():\n",
    "   train_rating(row)"
   ]
  },
  {
   "cell_type": "code",
   "execution_count": 149,
   "metadata": {},
   "outputs": [
    {
     "name": "stdout",
     "output_type": "stream",
     "text": [
      "{4049: -96.18352793802246, 7947: -10.153291007757094, 8203: 30.118115536218042, 8342: 68.589384452268, 8571: -30.739432712122053, 8635: 198.97976399205754, 9984: 8.86333990295979, 9985: 188.94403960774173, 9986: 26.450956130965366, 9987: 24.342906826304528, 9991: 120.7919300900258, 9993: 29.9017485446415, 9994: 62.52084088221111, 9996: 3.794302609388759, 9998: -98.65398464553334, 9999: -44.10570711496464, 10000: 99.79866771047617, 10001: 46.87315207150086}\n"
     ]
    }
   ],
   "source": [
    "print(team)"
   ]
  },
  {
   "cell_type": "code",
   "execution_count": 150,
   "metadata": {
    "collapsed": true
   },
   "outputs": [],
   "source": [
    "accuracy = [0, 0]\n",
    "for _, row in predict.iterrows():\n",
    "    delta = 0.1 * float(sum(team.values())) / len(team)\n",
    "    \n",
    "    if abs(team[row['home_team_api_id']] - team[row['away_team_api_id']]) < delta:\n",
    "        if row['home_team_goal'] == row['away_team_goal']:\n",
    "            accuracy[0] += 1\n",
    "        else:\n",
    "            accuracy[1] += 1\n",
    "    elif row['home_team_goal'] == row['away_team_goal']:\n",
    "            accuracy[1] += 1        \n",
    "    elif row['home_team_goal'] > row['away_team_goal'] and team[row['home_team_api_id']] > team[row['away_team_api_id']]:\n",
    "        accuracy[0] += 1\n",
    "    elif row['home_team_goal'] < row['away_team_goal'] and team[row['home_team_api_id']] < team[row['away_team_api_id']]:\n",
    "        accuracy[0] += 1\n",
    "    else:\n",
    "        accuracy[1] += 1\n",
    "    \n",
    "    train_rating(row)"
   ]
  },
  {
   "cell_type": "code",
   "execution_count": 151,
   "metadata": {
    "collapsed": false
   },
   "outputs": [
    {
     "name": "stdout",
     "output_type": "stream",
     "text": [
      "[24, 21]\n0.5333333333333333\n"
     ]
    }
   ],
   "source": [
    "print(accuracy)\n",
    "print(accuracy[0] / (accuracy[0] + accuracy[1]))"
   ]
  },
  {
   "cell_type": "code",
   "execution_count": 96,
   "metadata": {},
   "outputs": [
    {
     "name": "stdout",
     "output_type": "stream",
     "text": [
      "{4049: 7.811273927991962, 7947: 17.916669949444618, 8203: 23.595843101927073, 8342: 52.50419199330039, 8571: 22.15430195443111, 8635: 80.6161245881535, 9984: 33.44694996628317, 9985: 70.65814188137522, 9986: 24.149429977215057, 9987: 42.970663870977326, 9991: 50.958887980931394, 9993: 31.512352186516686, 9994: 39.7386130634657, 9996: 32.3740942883896, 9998: 8.048955648278035, 9999: 8.622391867443971, 10000: 47.97023252599953, 10001: 34.99770368998034}\n"
     ]
    }
   ],
   "source": [
    "print(team)"
   ]
  },
  {
   "cell_type": "code",
   "execution_count": 152,
   "metadata": {},
   "outputs": [],
   "source": [
    ""
   ]
  },
  {
   "cell_type": "code",
   "execution_count": null,
   "metadata": {},
   "outputs": [],
   "source": []
  }
 ],
 "metadata": {
  "kernelspec": {
   "display_name": "Python 2",
   "language": "python",
   "name": "python2"
  },
  "language_info": {
   "codemirror_mode": {
    "name": "ipython",
    "version": 2
   },
   "file_extension": ".py",
   "mimetype": "text/x-python",
   "name": "python",
   "nbconvert_exporter": "python",
   "pygments_lexer": "ipython2",
   "version": "2.7.6"
  }
 },
 "nbformat": 4,
 "nbformat_minor": 0
}
